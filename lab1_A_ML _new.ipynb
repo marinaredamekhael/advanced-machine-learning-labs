{
  "nbformat": 4,
  "nbformat_minor": 0,
  "metadata": {
    "colab": {
      "provenance": [],
      "gpuType": "T4"
    },
    "kernelspec": {
      "name": "python3",
      "display_name": "Python 3"
    },
    "language_info": {
      "name": "python"
    },
    "accelerator": "GPU"
  },
  "cells": [
    {
      "cell_type": "code",
      "source": [
        "!pip install pandas"
      ],
      "metadata": {
        "colab": {
          "base_uri": "https://localhost:8080/"
        },
        "id": "4ENCmrgujUMO",
        "outputId": "4899fafa-ca88-49d0-8417-e326c2f0b745"
      },
      "execution_count": null,
      "outputs": [
        {
          "output_type": "stream",
          "name": "stdout",
          "text": [
            "Requirement already satisfied: pandas in /usr/local/lib/python3.10/dist-packages (2.2.2)\n",
            "Requirement already satisfied: numpy>=1.22.4 in /usr/local/lib/python3.10/dist-packages (from pandas) (1.26.4)\n",
            "Requirement already satisfied: python-dateutil>=2.8.2 in /usr/local/lib/python3.10/dist-packages (from pandas) (2.8.2)\n",
            "Requirement already satisfied: pytz>=2020.1 in /usr/local/lib/python3.10/dist-packages (from pandas) (2024.2)\n",
            "Requirement already satisfied: tzdata>=2022.7 in /usr/local/lib/python3.10/dist-packages (from pandas) (2024.2)\n",
            "Requirement already satisfied: six>=1.5 in /usr/local/lib/python3.10/dist-packages (from python-dateutil>=2.8.2->pandas) (1.16.0)\n"
          ]
        }
      ]
    },
    {
      "cell_type": "code",
      "source": [
        "import pandas as pd"
      ],
      "metadata": {
        "id": "C619aHKEjY5f"
      },
      "execution_count": null,
      "outputs": []
    },
    {
      "cell_type": "code",
      "source": [
        "titanic_df = pd.read_csv('https://raw.githubusercontent.com/datasciencedojo/datasets/master/titanic.csv')"
      ],
      "metadata": {
        "id": "mtKpMLAUjq5g"
      },
      "execution_count": null,
      "outputs": []
    },
    {
      "cell_type": "code",
      "source": [
        "# Display the first few rows of the dataset\n",
        "print(titanic_df.head())"
      ],
      "metadata": {
        "colab": {
          "base_uri": "https://localhost:8080/"
        },
        "id": "t-prg4fVjx_f",
        "outputId": "64ec13de-3515-45c1-c196-719175ea9801"
      },
      "execution_count": null,
      "outputs": [
        {
          "output_type": "stream",
          "name": "stdout",
          "text": [
            "   PassengerId  Survived  Pclass  \\\n",
            "0            1         0       3   \n",
            "1            2         1       1   \n",
            "2            3         1       3   \n",
            "3            4         1       1   \n",
            "4            5         0       3   \n",
            "\n",
            "                                                Name     Sex   Age  SibSp  \\\n",
            "0                            Braund, Mr. Owen Harris    male  22.0      1   \n",
            "1  Cumings, Mrs. John Bradley (Florence Briggs Th...  female  38.0      1   \n",
            "2                             Heikkinen, Miss. Laina  female  26.0      0   \n",
            "3       Futrelle, Mrs. Jacques Heath (Lily May Peel)  female  35.0      1   \n",
            "4                           Allen, Mr. William Henry    male  35.0      0   \n",
            "\n",
            "   Parch            Ticket     Fare Cabin Embarked  \n",
            "0      0         A/5 21171   7.2500   NaN        S  \n",
            "1      0          PC 17599  71.2833   C85        C  \n",
            "2      0  STON/O2. 3101282   7.9250   NaN        S  \n",
            "3      0            113803  53.1000  C123        S  \n",
            "4      0            373450   8.0500   NaN        S  \n"
          ]
        }
      ]
    },
    {
      "cell_type": "code",
      "source": [
        "# Perform some basic data exploration\n",
        "print(titanic_df.info())\n",
        "print(titanic_df.describe())"
      ],
      "metadata": {
        "colab": {
          "base_uri": "https://localhost:8080/"
        },
        "id": "P5IvyS3Ej02B",
        "outputId": "18f7b2ff-1a75-405d-d103-371447dbadda"
      },
      "execution_count": null,
      "outputs": [
        {
          "output_type": "stream",
          "name": "stdout",
          "text": [
            "<class 'pandas.core.frame.DataFrame'>\n",
            "RangeIndex: 891 entries, 0 to 890\n",
            "Data columns (total 12 columns):\n",
            " #   Column       Non-Null Count  Dtype  \n",
            "---  ------       --------------  -----  \n",
            " 0   PassengerId  891 non-null    int64  \n",
            " 1   Survived     891 non-null    int64  \n",
            " 2   Pclass       891 non-null    int64  \n",
            " 3   Name         891 non-null    object \n",
            " 4   Sex          891 non-null    object \n",
            " 5   Age          714 non-null    float64\n",
            " 6   SibSp        891 non-null    int64  \n",
            " 7   Parch        891 non-null    int64  \n",
            " 8   Ticket       891 non-null    object \n",
            " 9   Fare         891 non-null    float64\n",
            " 10  Cabin        204 non-null    object \n",
            " 11  Embarked     889 non-null    object \n",
            "dtypes: float64(2), int64(5), object(5)\n",
            "memory usage: 83.7+ KB\n",
            "None\n",
            "       PassengerId    Survived      Pclass         Age       SibSp  \\\n",
            "count   891.000000  891.000000  891.000000  714.000000  891.000000   \n",
            "mean    446.000000    0.383838    2.308642   29.699118    0.523008   \n",
            "std     257.353842    0.486592    0.836071   14.526497    1.102743   \n",
            "min       1.000000    0.000000    1.000000    0.420000    0.000000   \n",
            "25%     223.500000    0.000000    2.000000   20.125000    0.000000   \n",
            "50%     446.000000    0.000000    3.000000   28.000000    0.000000   \n",
            "75%     668.500000    1.000000    3.000000   38.000000    1.000000   \n",
            "max     891.000000    1.000000    3.000000   80.000000    8.000000   \n",
            "\n",
            "            Parch        Fare  \n",
            "count  891.000000  891.000000  \n",
            "mean     0.381594   32.204208  \n",
            "std      0.806057   49.693429  \n",
            "min      0.000000    0.000000  \n",
            "25%      0.000000    7.910400  \n",
            "50%      0.000000   14.454200  \n",
            "75%      0.000000   31.000000  \n",
            "max      6.000000  512.329200  \n"
          ]
        }
      ]
    },
    {
      "cell_type": "code",
      "source": [
        "# Check for missing values\n",
        "print(titanic_df.isnull().sum())"
      ],
      "metadata": {
        "colab": {
          "base_uri": "https://localhost:8080/"
        },
        "id": "U18APOflkJRI",
        "outputId": "fc3d0e77-8d23-4ddb-b323-1b052ebfd29d"
      },
      "execution_count": null,
      "outputs": [
        {
          "output_type": "stream",
          "name": "stdout",
          "text": [
            "PassengerId      0\n",
            "Survived         0\n",
            "Pclass           0\n",
            "Name             0\n",
            "Sex              0\n",
            "Age            177\n",
            "SibSp            0\n",
            "Parch            0\n",
            "Ticket           0\n",
            "Fare             0\n",
            "Cabin          687\n",
            "Embarked         2\n",
            "dtype: int64\n"
          ]
        }
      ]
    },
    {
      "cell_type": "code",
      "source": [
        "# Fill missing age values with the median age\n",
        "titanic_df['Age'].fillna(titanic_df['Age'].median(), inplace=True)"
      ],
      "metadata": {
        "colab": {
          "base_uri": "https://localhost:8080/"
        },
        "id": "fyfg_gThkLnJ",
        "outputId": "df7876d0-7d65-4a4e-9ceb-9dfacdb942da"
      },
      "execution_count": null,
      "outputs": [
        {
          "output_type": "stream",
          "name": "stderr",
          "text": [
            "<ipython-input-72-1ea83eeeeace>:2: FutureWarning: A value is trying to be set on a copy of a DataFrame or Series through chained assignment using an inplace method.\n",
            "The behavior will change in pandas 3.0. This inplace method will never work because the intermediate object on which we are setting values always behaves as a copy.\n",
            "\n",
            "For example, when doing 'df[col].method(value, inplace=True)', try using 'df.method({col: value}, inplace=True)' or df[col] = df[col].method(value) instead, to perform the operation inplace on the original object.\n",
            "\n",
            "\n",
            "  titanic_df['Age'].fillna(titanic_df['Age'].median(), inplace=True)\n"
          ]
        }
      ]
    },
    {
      "cell_type": "code",
      "source": [
        "# Fill missing embarked values with the most frequent value\n",
        "titanic_df['Embarked'].fillna(titanic_df['Embarked'].mode()[0], inplace=True)"
      ],
      "metadata": {
        "colab": {
          "base_uri": "https://localhost:8080/"
        },
        "id": "bmeVAXm2kNxC",
        "outputId": "22716959-c4ff-4732-9fcd-b1bf7ba7a377"
      },
      "execution_count": null,
      "outputs": [
        {
          "output_type": "stream",
          "name": "stderr",
          "text": [
            "<ipython-input-73-f5a7f5cc72b7>:2: FutureWarning: A value is trying to be set on a copy of a DataFrame or Series through chained assignment using an inplace method.\n",
            "The behavior will change in pandas 3.0. This inplace method will never work because the intermediate object on which we are setting values always behaves as a copy.\n",
            "\n",
            "For example, when doing 'df[col].method(value, inplace=True)', try using 'df.method({col: value}, inplace=True)' or df[col] = df[col].method(value) instead, to perform the operation inplace on the original object.\n",
            "\n",
            "\n",
            "  titanic_df['Embarked'].fillna(titanic_df['Embarked'].mode()[0], inplace=True)\n"
          ]
        }
      ]
    },
    {
      "cell_type": "code",
      "source": [
        "# Drop the Cabin column as it has many missing values\n",
        "titanic_df.drop('Cabin', axis=1, inplace=True)\n",
        "\n",
        "# Convert the 'Sex' column to numerical values (0 for female, 1 for male)\n",
        "titanic_df['Sex'] = titanic_df['Sex'].map({'female': 0, 'male': 1})\n",
        "\n",
        "# Convert the 'Embarked' column to numerical values using one-hot encoding\n",
        "embarked_dummies = pd.get_dummies(titanic_df['Embarked'], prefix='Embarked')\n",
        "titanic_df = pd.concat([titanic_df, embarked_dummies], axis=1)\n",
        "titanic_df.drop('Embarked', axis=1, inplace=True)\n",
        "\n",
        "# Verify the changes\n",
        "print(titanic_df.isnull().sum())\n",
        "print(titanic_df.info())\n"
      ],
      "metadata": {
        "colab": {
          "base_uri": "https://localhost:8080/"
        },
        "id": "EqZ3ok7okfnK",
        "outputId": "23fbf613-431d-49fb-88fd-93cefb1069f3"
      },
      "execution_count": null,
      "outputs": [
        {
          "output_type": "stream",
          "name": "stdout",
          "text": [
            "PassengerId    0\n",
            "Survived       0\n",
            "Pclass         0\n",
            "Name           0\n",
            "Sex            0\n",
            "Age            0\n",
            "SibSp          0\n",
            "Parch          0\n",
            "Ticket         0\n",
            "Fare           0\n",
            "Embarked_C     0\n",
            "Embarked_Q     0\n",
            "Embarked_S     0\n",
            "dtype: int64\n",
            "<class 'pandas.core.frame.DataFrame'>\n",
            "RangeIndex: 891 entries, 0 to 890\n",
            "Data columns (total 13 columns):\n",
            " #   Column       Non-Null Count  Dtype  \n",
            "---  ------       --------------  -----  \n",
            " 0   PassengerId  891 non-null    int64  \n",
            " 1   Survived     891 non-null    int64  \n",
            " 2   Pclass       891 non-null    int64  \n",
            " 3   Name         891 non-null    object \n",
            " 4   Sex          891 non-null    int64  \n",
            " 5   Age          891 non-null    float64\n",
            " 6   SibSp        891 non-null    int64  \n",
            " 7   Parch        891 non-null    int64  \n",
            " 8   Ticket       891 non-null    object \n",
            " 9   Fare         891 non-null    float64\n",
            " 10  Embarked_C   891 non-null    bool   \n",
            " 11  Embarked_Q   891 non-null    bool   \n",
            " 12  Embarked_S   891 non-null    bool   \n",
            "dtypes: bool(3), float64(2), int64(6), object(2)\n",
            "memory usage: 72.3+ KB\n",
            "None\n"
          ]
        }
      ]
    },
    {
      "cell_type": "code",
      "source": [
        "# Assuming 'PassengerId', 'Name', and 'Ticket' are not useful for your analysis\n",
        "titanic_df.drop(['PassengerId', 'Name', 'Ticket'], axis=1, inplace=True)\n",
        "\n",
        "# Verify the changes\n",
        "print(titanic_df.info())"
      ],
      "metadata": {
        "colab": {
          "base_uri": "https://localhost:8080/"
        },
        "id": "MIznGQ5PnxV-",
        "outputId": "e7ab8ff2-08cf-41a6-fa68-ca1e2fcc8cb4"
      },
      "execution_count": null,
      "outputs": [
        {
          "output_type": "stream",
          "name": "stdout",
          "text": [
            "<class 'pandas.core.frame.DataFrame'>\n",
            "RangeIndex: 891 entries, 0 to 890\n",
            "Data columns (total 10 columns):\n",
            " #   Column      Non-Null Count  Dtype  \n",
            "---  ------      --------------  -----  \n",
            " 0   Survived    891 non-null    int64  \n",
            " 1   Pclass      891 non-null    int64  \n",
            " 2   Sex         891 non-null    int64  \n",
            " 3   Age         891 non-null    float64\n",
            " 4   SibSp       891 non-null    int64  \n",
            " 5   Parch       891 non-null    int64  \n",
            " 6   Fare        891 non-null    float64\n",
            " 7   Embarked_C  891 non-null    bool   \n",
            " 8   Embarked_Q  891 non-null    bool   \n",
            " 9   Embarked_S  891 non-null    bool   \n",
            "dtypes: bool(3), float64(2), int64(5)\n",
            "memory usage: 51.5 KB\n",
            "None\n"
          ]
        }
      ]
    },
    {
      "cell_type": "code",
      "source": [
        "from sklearn.model_selection import train_test_split\n",
        "from sklearn.linear_model import LogisticRegression\n",
        "from sklearn.ensemble import RandomForestClassifier\n",
        "from sklearn.metrics import accuracy_score, classification_report\n",
        "\n",
        "# Define features (X) and target variable (y)\n",
        "X = titanic_df.iloc[:, :-1]  # All columns except the last one\n",
        "y = titanic_df.iloc[:, -1]   # The last column\n",
        "\n",
        "# Split the data into training and testing sets\n",
        "X_train, X_test, y_train, y_test = train_test_split(X, y, test_size=0.2, random_state=42)\n",
        "\n",
        "# 1. Logistic Regression Model\n",
        "logreg_model = LogisticRegression(max_iter=1000)\n",
        "logreg_model.fit(X_train, y_train)\n",
        "y_pred_logreg = logreg_model.predict(X_test)\n",
        "\n",
        "# Evaluate Logistic Regression\n",
        "print(\"Logistic Regression Accuracy:\", accuracy_score(y_test, y_pred_logreg))\n",
        "print(classification_report(y_test, y_pred_logreg))\n",
        "\n",
        "\n",
        "# 2. Random Forest Model\n",
        "rf_model = RandomForestClassifier(n_estimators=100, random_state=42)\n",
        "rf_model.fit(X_train, y_train)\n",
        "y_pred_rf = rf_model.predict(X_test)\n",
        "\n",
        "# Evaluate Random Forest\n",
        "print(\"\\nRandom Forest Accuracy:\", accuracy_score(y_test, y_pred_rf))\n",
        "print(classification_report(y_test, y_pred_rf))"
      ],
      "metadata": {
        "colab": {
          "base_uri": "https://localhost:8080/"
        },
        "id": "aPaPGbyXlbRy",
        "outputId": "0836d9d2-ad93-4042-a71b-ad663574c25e"
      },
      "execution_count": null,
      "outputs": [
        {
          "output_type": "stream",
          "name": "stdout",
          "text": [
            "Logistic Regression Accuracy: 1.0\n",
            "              precision    recall  f1-score   support\n",
            "\n",
            "       False       1.00      1.00      1.00        60\n",
            "        True       1.00      1.00      1.00       119\n",
            "\n",
            "    accuracy                           1.00       179\n",
            "   macro avg       1.00      1.00      1.00       179\n",
            "weighted avg       1.00      1.00      1.00       179\n",
            "\n",
            "\n",
            "Random Forest Accuracy: 1.0\n",
            "              precision    recall  f1-score   support\n",
            "\n",
            "       False       1.00      1.00      1.00        60\n",
            "        True       1.00      1.00      1.00       119\n",
            "\n",
            "    accuracy                           1.00       179\n",
            "   macro avg       1.00      1.00      1.00       179\n",
            "weighted avg       1.00      1.00      1.00       179\n",
            "\n"
          ]
        }
      ]
    },
    {
      "cell_type": "code",
      "source": [
        "# Train accuracy for Logistic Regression\n",
        "y_pred_train_logreg = logreg_model.predict(X_train)\n",
        "train_acc_logreg = accuracy_score(y_train, y_pred_train_logreg)\n",
        "\n",
        "# Train accuracy for Random Forest\n",
        "y_pred_train_rf = rf_model.predict(X_train)\n",
        "train_acc_rf = accuracy_score(y_train, y_pred_train_rf)\n",
        "\n",
        "\n",
        "print(\"\\nOverfitting potential:\")\n",
        "for model_name, train_acc, test_acc in [\n",
        "    (\"Logistic Regression\", train_acc_logreg, accuracy_score(y_test, y_pred_logreg)),\n",
        "    (\"Random Forest\", train_acc_rf, accuracy_score(y_test, y_pred_rf)),\n",
        "]:\n",
        "    print(f\"{model_name}:\")\n",
        "    print(f\"  Training Accuracy: {train_acc:.4f}\")\n",
        "    print(f\"  Testing Accuracy: {test_acc:.4f}\")\n",
        "    if train_acc - test_acc > 0.10:\n",
        "        print(\"  Warning: Potential overfitting detected.\")\n",
        "    else:\n",
        "        print(\"  No significant overfitting detected.\")\n",
        "\n",
        "\n"
      ],
      "metadata": {
        "colab": {
          "base_uri": "https://localhost:8080/"
        },
        "id": "uf2cCzI8vU_H",
        "outputId": "945ea67c-1228-423c-e6d4-eb0ce7b88e3e"
      },
      "execution_count": null,
      "outputs": [
        {
          "output_type": "stream",
          "name": "stdout",
          "text": [
            "\n",
            "Overfitting potential:\n",
            "Logistic Regression:\n",
            "  Training Accuracy: 1.0000\n",
            "  Testing Accuracy: 1.0000\n",
            "  No significant overfitting detected.\n",
            "Random Forest:\n",
            "  Training Accuracy: 1.0000\n",
            "  Testing Accuracy: 1.0000\n",
            "  No significant overfitting detected.\n"
          ]
        }
      ]
    },
    {
      "cell_type": "code",
      "source": [
        "from sklearn.svm import SVC\n",
        "\n",
        "# 3. Support Vector Machine (SVM) Model\n",
        "svm_model = SVC(kernel='linear', random_state=42)\n",
        "svm_model.fit(X_train, y_train)\n",
        "y_pred_svm = svm_model.predict(X_test)\n",
        "\n",
        "# Evaluate SVM\n",
        "print(\"\\nSVM Accuracy:\", accuracy_score(y_test, y_pred_svm))\n",
        "print(classification_report(y_test, y_pred_svm))"
      ],
      "metadata": {
        "colab": {
          "base_uri": "https://localhost:8080/"
        },
        "id": "mT0PNw4ioW8H",
        "outputId": "8ed4327e-36e0-4c4c-8ac2-6865f3e0b072"
      },
      "execution_count": null,
      "outputs": [
        {
          "output_type": "stream",
          "name": "stdout",
          "text": [
            "\n",
            "SVM Accuracy: 1.0\n",
            "              precision    recall  f1-score   support\n",
            "\n",
            "       False       1.00      1.00      1.00        60\n",
            "        True       1.00      1.00      1.00       119\n",
            "\n",
            "    accuracy                           1.00       179\n",
            "   macro avg       1.00      1.00      1.00       179\n",
            "weighted avg       1.00      1.00      1.00       179\n",
            "\n"
          ]
        }
      ]
    },
    {
      "cell_type": "code",
      "source": [
        "import pandas as pd\n",
        "import matplotlib.pyplot as plt\n",
        "import seaborn as sns\n",
        "\n",
        "# Assuming 'Survived' is your target variable\n",
        "# Create a scatter plot of 'Age' vs 'Fare' colored by 'Survived' (actual data)\n",
        "plt.figure(figsize=(10, 6))\n",
        "sns.scatterplot(x='Age', y='Fare', hue='Survived', data=titanic_df)\n",
        "plt.title('Actual Data: Age vs. Fare colored by Survival')\n",
        "plt.show()\n",
        "\n",
        "\n",
        "# Create a scatter plot of 'Age' vs 'Fare' colored by predicted 'Survived' (using one of the models)\n",
        "# For example, using the Random Forest model\n",
        "y_pred_rf_series = pd.Series(y_pred_rf, name='Predicted Survived')\n",
        "X_test_with_pred = X_test.copy()\n",
        "X_test_with_pred['Predicted Survived'] = y_pred_rf_series\n",
        "plt.figure(figsize=(10, 6))\n",
        "sns.scatterplot(x='Age', y='Fare', hue='Predicted Survived', data=X_test_with_pred)\n",
        "plt.title('Random Forest Prediction: Age vs. Fare colored by Predicted Survival')\n",
        "plt.show()"
      ],
      "metadata": {
        "colab": {
          "base_uri": "https://localhost:8080/",
          "height": 1000
        },
        "id": "2gaF8JYhsXrN",
        "outputId": "cdfa4758-fd6a-48eb-bc24-06bb79dcdada"
      },
      "execution_count": null,
      "outputs": [
        {
          "output_type": "display_data",
          "data": {
            "text/plain": [
              "<Figure size 1000x600 with 1 Axes>"
            ],
            "image/png": "[encoded data removed]"
          },
          "metadata": {}
        },
        {
          "output_type": "display_data",
          "data": {
            "text/plain": [
              "<Figure size 1000x600 with 1 Axes>"
            ],
            "image/png": "[encoded data removed]"
          },
          "metadata": {}
        }
      ]
    },
    {
      "cell_type": "code",
      "source": [
        "# 4. Gradient Boosting Model\n",
        "from sklearn.ensemble import GradientBoostingClassifier\n",
        "\n",
        "gb_model = GradientBoostingClassifier(n_estimators=100, random_state=42)\n",
        "gb_model.fit(X_train, y_train)\n",
        "y_pred_gb = gb_model.predict(X_test)\n",
        "\n",
        "# Evaluate Gradient Boosting\n",
        "print(\"\\nGradient Boosting Accuracy:\", accuracy_score(y_test, y_pred_gb))\n",
        "print(classification_report(y_test, y_pred_gb))"
      ],
      "metadata": {
        "colab": {
          "base_uri": "https://localhost:8080/"
        },
        "id": "AlAPlihNoffP",
        "outputId": "d8ecff78-6718-48d3-dd66-5ad7d1c21f62"
      },
      "execution_count": null,
      "outputs": [
        {
          "output_type": "stream",
          "name": "stdout",
          "text": [
            "\n",
            "Gradient Boosting Accuracy: 1.0\n",
            "              precision    recall  f1-score   support\n",
            "\n",
            "       False       1.00      1.00      1.00        60\n",
            "        True       1.00      1.00      1.00       119\n",
            "\n",
            "    accuracy                           1.00       179\n",
            "   macro avg       1.00      1.00      1.00       179\n",
            "weighted avg       1.00      1.00      1.00       179\n",
            "\n"
          ]
        }
      ]
    },
    {
      "cell_type": "code",
      "source": [
        "from sklearn.neural_network import MLPClassifier\n",
        "\n",
        "# 5. Neural Network Model\n",
        "nn_model = MLPClassifier(hidden_layer_sizes=(100, 50), max_iter=500, random_state=42)\n",
        "nn_model.fit(X_train, y_train)\n",
        "y_pred_nn = nn_model.predict(X_test)\n",
        "\n",
        "# Evaluate Neural Network\n",
        "print(\"\\nNeural Network Accuracy:\", accuracy_score(y_test, y_pred_nn))\n",
        "print(classification_report(y_test, y_pred_nn))"
      ],
      "metadata": {
        "colab": {
          "base_uri": "https://localhost:8080/"
        },
        "id": "tNqVRJGxopEu",
        "outputId": "230bf006-d3ad-4bb4-97b8-686186fdf31a"
      },
      "execution_count": null,
      "outputs": [
        {
          "output_type": "stream",
          "name": "stdout",
          "text": [
            "\n",
            "Neural Network Accuracy: 1.0\n",
            "              precision    recall  f1-score   support\n",
            "\n",
            "       False       1.00      1.00      1.00        60\n",
            "        True       1.00      1.00      1.00       119\n",
            "\n",
            "    accuracy                           1.00       179\n",
            "   macro avg       1.00      1.00      1.00       179\n",
            "weighted avg       1.00      1.00      1.00       179\n",
            "\n"
          ]
        }
      ]
    },
    {
      "cell_type": "code",
      "source": [
        "from sklearn.ensemble import AdaBoostClassifier\n",
        "\n",
        "# 6. AdaBoost Model\n",
        "ada_model = AdaBoostClassifier(n_estimators=100, random_state=42)\n",
        "ada_model.fit(X_train, y_train)\n",
        "y_pred_ada = ada_model.predict(X_test)\n",
        "\n",
        "# Evaluate AdaBoost\n",
        "print(\"\\nAdaBoost Accuracy:\", accuracy_score(y_test, y_pred_ada))\n",
        "print(classification_report(y_test, y_pred_ada))"
      ],
      "metadata": {
        "colab": {
          "base_uri": "https://localhost:8080/"
        },
        "id": "4GuIABvPowx-",
        "outputId": "8d378c9b-fbdb-4316-f361-9873c0581a4f"
      },
      "execution_count": null,
      "outputs": [
        {
          "output_type": "stream",
          "name": "stderr",
          "text": [
            "/usr/local/lib/python3.10/dist-packages/sklearn/ensemble/_weight_boosting.py:527: FutureWarning: The SAMME.R algorithm (the default) is deprecated and will be removed in 1.6. Use the SAMME algorithm to circumvent this warning.\n",
            "  warnings.warn(\n"
          ]
        },
        {
          "output_type": "stream",
          "name": "stdout",
          "text": [
            "\n",
            "AdaBoost Accuracy: 1.0\n",
            "              precision    recall  f1-score   support\n",
            "\n",
            "       False       1.00      1.00      1.00        60\n",
            "        True       1.00      1.00      1.00       119\n",
            "\n",
            "    accuracy                           1.00       179\n",
            "   macro avg       1.00      1.00      1.00       179\n",
            "weighted avg       1.00      1.00      1.00       179\n",
            "\n"
          ]
        }
      ]
    },
    {
      "cell_type": "code",
      "source": [
        "from sklearn.ensemble import VotingClassifier\n",
        "\n",
        "# Create a voting classifier with the best performing models\n",
        "voting_model = VotingClassifier(estimators=[\n",
        "    ('rf', rf_model),\n",
        "    ('gb', gb_model),\n",
        "    ('ada', ada_model)\n",
        "], voting='hard')  # 'hard' voting for majority class prediction\n",
        "\n",
        "voting_model.fit(X_train, y_train)\n",
        "y_pred_voting = voting_model.predict(X_test)\n",
        "\n",
        "# Evaluate Voting Classifier\n",
        "print(\"\\nVoting Classifier Accuracy:\", accuracy_score(y_test, y_pred_voting))\n",
        "print(classification_report(y_test, y_pred_voting))"
      ],
      "metadata": {
        "colab": {
          "base_uri": "https://localhost:8080/"
        },
        "id": "1sILU5Yno1xQ",
        "outputId": "5eb8a66c-f556-43e9-a1f9-cb2632be377c"
      },
      "execution_count": null,
      "outputs": [
        {
          "output_type": "stream",
          "name": "stderr",
          "text": [
            "/usr/local/lib/python3.10/dist-packages/sklearn/ensemble/_weight_boosting.py:527: FutureWarning: The SAMME.R algorithm (the default) is deprecated and will be removed in 1.6. Use the SAMME algorithm to circumvent this warning.\n",
            "  warnings.warn(\n"
          ]
        },
        {
          "output_type": "stream",
          "name": "stdout",
          "text": [
            "\n",
            "Voting Classifier Accuracy: 1.0\n",
            "              precision    recall  f1-score   support\n",
            "\n",
            "       False       1.00      1.00      1.00        60\n",
            "        True       1.00      1.00      1.00       119\n",
            "\n",
            "    accuracy                           1.00       179\n",
            "   macro avg       1.00      1.00      1.00       179\n",
            "weighted avg       1.00      1.00      1.00       179\n",
            "\n"
          ]
        }
      ]
    },
    {
      "cell_type": "code",
      "source": [
        "from sklearn.neighbors import KNeighborsClassifier\n",
        "\n",
        "# 7. K-Nearest Neighbors (KNN) Model\n",
        "knn_model = KNeighborsClassifier(n_neighbors=5)  # You can adjust the number of neighbors\n",
        "knn_model.fit(X_train, y_train)\n",
        "y_pred_knn = knn_model.predict(X_test)\n",
        "\n",
        "# Evaluate KNN\n",
        "print(\"\\nK-Nearest Neighbors Accuracy:\", accuracy_score(y_test, y_pred_knn))\n",
        "print(classification_report(y_test, y_pred_knn))"
      ],
      "metadata": {
        "colab": {
          "base_uri": "https://localhost:8080/"
        },
        "id": "8XcwSz4eo6Jv",
        "outputId": "360eb814-84cd-4cb7-c5b4-f4637a702716"
      },
      "execution_count": null,
      "outputs": [
        {
          "output_type": "stream",
          "name": "stdout",
          "text": [
            "\n",
            "K-Nearest Neighbors Accuracy: 0.7653631284916201\n",
            "              precision    recall  f1-score   support\n",
            "\n",
            "       False       0.80      0.40      0.53        60\n",
            "        True       0.76      0.95      0.84       119\n",
            "\n",
            "    accuracy                           0.77       179\n",
            "   macro avg       0.78      0.67      0.69       179\n",
            "weighted avg       0.77      0.77      0.74       179\n",
            "\n"
          ]
        }
      ]
    },
    {
      "cell_type": "code",
      "source": [
        "from xgboost import XGBClassifier\n",
        "\n",
        "# 8. XGBoost Model\n",
        "xgb_model = XGBClassifier(n_estimators=100, random_state=42)\n",
        "xgb_model.fit(X_train, y_train)\n",
        "y_pred_xgb = xgb_model.predict(X_test)\n",
        "\n",
        "# Evaluate XGBoost\n",
        "print(\"\\nXGBoost Accuracy:\", accuracy_score(y_test, y_pred_xgb))\n",
        "print(classification_report(y_test, y_pred_xgb))\n"
      ],
      "metadata": {
        "colab": {
          "base_uri": "https://localhost:8080/"
        },
        "id": "-C8svK5Lp_pW",
        "outputId": "001abb54-c82b-466d-c69b-1bfb85b72ae1"
      },
      "execution_count": null,
      "outputs": [
        {
          "output_type": "stream",
          "name": "stdout",
          "text": [
            "\n",
            "XGBoost Accuracy: 1.0\n",
            "              precision    recall  f1-score   support\n",
            "\n",
            "       False       1.00      1.00      1.00        60\n",
            "        True       1.00      1.00      1.00       119\n",
            "\n",
            "    accuracy                           1.00       179\n",
            "   macro avg       1.00      1.00      1.00       179\n",
            "weighted avg       1.00      1.00      1.00       179\n",
            "\n"
          ]
        }
      ]
    },
    {
      "cell_type": "code",
      "source": [
        "from sklearn.ensemble import BaggingClassifier\n",
        "\n",
        "# 9. Bagging Model with Decision Tree\n",
        "bagging_model = BaggingClassifier(n_estimators=100, random_state=42)\n",
        "bagging_model.fit(X_train, y_train)\n",
        "y_pred_bagging = bagging_model.predict(X_test)\n",
        "\n",
        "# Evaluate Bagging\n",
        "print(\"\\nBagging Classifier Accuracy:\", accuracy_score(y_test, y_pred_bagging))\n",
        "print(classification_report(y_test, y_pred_bagging))\n"
      ],
      "metadata": {
        "colab": {
          "base_uri": "https://localhost:8080/"
        },
        "id": "5yKzAUBIqEjf",
        "outputId": "0dad38e3-2f80-4e25-ec68-18db395478d8"
      },
      "execution_count": null,
      "outputs": [
        {
          "output_type": "stream",
          "name": "stdout",
          "text": [
            "\n",
            "Bagging Classifier Accuracy: 1.0\n",
            "              precision    recall  f1-score   support\n",
            "\n",
            "       False       1.00      1.00      1.00        60\n",
            "        True       1.00      1.00      1.00       119\n",
            "\n",
            "    accuracy                           1.00       179\n",
            "   macro avg       1.00      1.00      1.00       179\n",
            "weighted avg       1.00      1.00      1.00       179\n",
            "\n"
          ]
        }
      ]
    },
    {
      "cell_type": "code",
      "source": [
        "from sklearn.model_selection import GridSearchCV\n",
        "\n",
        "# Define the parameter grid for Gradient Boosting\n",
        "param_grid = {\n",
        "    'n_estimators': [50, 100, 150],\n",
        "    'learning_rate': [0.01, 0.1, 0.2],\n",
        "    'max_depth': [3, 4, 5],\n",
        "}\n",
        "\n",
        "# Create a Gradient Boosting Classifier\n",
        "gb_model = GradientBoostingClassifier(random_state=42)\n",
        "\n",
        "# Create a GridSearchCV object\n",
        "grid_search = GridSearchCV(estimator=gb_model, param_grid=param_grid, cv=5, scoring='accuracy')\n",
        "\n",
        "# Fit the grid search to the training data\n",
        "grid_search.fit(X_train, y_train)\n",
        "\n",
        "# Print the best parameters and the best score\n",
        "print(\"Best Parameters:\", grid_search.best_params_)\n",
        "print(\"Best Accuracy:\", grid_search.best_score_)\n",
        "\n",
        "# Use the best model from the grid search to make predictions\n",
        "y_pred_gb_grid = grid_search.predict(X_test)\n",
        "\n",
        "# Evaluate the model\n",
        "print(\"\\nGradient Boosting (Grid Search) Accuracy:\", accuracy_score(y_test, y_pred_gb_grid))\n",
        "print(classification_report(y_test, y_pred_gb_grid))"
      ],
      "metadata": {
        "colab": {
          "base_uri": "https://localhost:8080/"
        },
        "id": "pKy-v8PqqLrf",
        "outputId": "c8f0d573-d523-4429-ffbd-d8ceb98959db"
      },
      "execution_count": null,
      "outputs": [
        {
          "output_type": "stream",
          "name": "stdout",
          "text": [
            "Best Parameters: {'learning_rate': 0.01, 'max_depth': 3, 'n_estimators': 50}\n",
            "Best Accuracy: 1.0\n",
            "\n",
            "Gradient Boosting (Grid Search) Accuracy: 1.0\n",
            "              precision    recall  f1-score   support\n",
            "\n",
            "       False       1.00      1.00      1.00        60\n",
            "        True       1.00      1.00      1.00       119\n",
            "\n",
            "    accuracy                           1.00       179\n",
            "   macro avg       1.00      1.00      1.00       179\n",
            "weighted avg       1.00      1.00      1.00       179\n",
            "\n"
          ]
        }
      ]
    }
  ]
}