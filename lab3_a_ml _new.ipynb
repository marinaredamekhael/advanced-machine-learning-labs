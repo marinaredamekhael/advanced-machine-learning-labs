{
  "nbformat": 4,
  "nbformat_minor": 0,
  "metadata": {
    "colab": {
      "provenance": []
    },
    "kernelspec": {
      "name": "python3",
      "display_name": "Python 3"
    },
    "language_info": {
      "name": "python"
    }
  },
  "cells": [
    {
      "cell_type": "markdown",
      "source": [
        "# Wine Quality Dataset\n",
        "## l1 , l2 (regularization) with k fold (cross validation)\n",
        "![image](https://raw.githubusercontent.com/Masterx-AI/Project_Wine_Quality_Investigation/main/wq.jpg)"
      ],
      "metadata": {
        "id": "0lFU6ljDrKmZ"
      }
    },
    {
      "cell_type": "code",
      "source": [
        "import pandas as pd\n",
        "from sklearn.model_selection import train_test_split\n",
        "from sklearn.preprocessing import StandardScaler"
      ],
      "metadata": {
        "id": "6Sn6e558u64V"
      },
      "execution_count": null,
      "outputs": []
    },
    {
      "cell_type": "code",
      "source": [
        "# Load the dataset\n",
        "data = pd.read_csv('/content/WineQT.csv')"
      ],
      "metadata": {
        "id": "ocJzOcrpu9lB"
      },
      "execution_count": null,
      "outputs": []
    },
    {
      "cell_type": "code",
      "source": [
        "# Head of the dataframe\n",
        "print(data.head())"
      ],
      "metadata": {
        "colab": {
          "base_uri": "https://localhost:8080/"
        },
        "id": "kpjOeBmDvmW8",
        "outputId": "ff7eef98-a7c6-4957-d865-f5f78aa7c458"
      },
      "execution_count": null,
      "outputs": [
        {
          "output_type": "stream",
          "name": "stdout",
          "text": [
            "   fixed acidity  volatile acidity  citric acid  residual sugar  chlorides  \\\n",
            "0            7.4              0.70         0.00             1.9      0.076   \n",
            "1            7.8              0.88         0.00             2.6      0.098   \n",
            "2            7.8              0.76         0.04             2.3      0.092   \n",
            "3           11.2              0.28         0.56             1.9      0.075   \n",
            "4            7.4              0.70         0.00             1.9      0.076   \n",
            "\n",
            "   free sulfur dioxide  total sulfur dioxide  density    pH  sulphates  \\\n",
            "0                 11.0                  34.0   0.9978  3.51       0.56   \n",
            "1                 25.0                  67.0   0.9968  3.20       0.68   \n",
            "2                 15.0                  54.0   0.9970  3.26       0.65   \n",
            "3                 17.0                  60.0   0.9980  3.16       0.58   \n",
            "4                 11.0                  34.0   0.9978  3.51       0.56   \n",
            "\n",
            "   alcohol  quality  Id  \n",
            "0      9.4        5   0  \n",
            "1      9.8        5   1  \n",
            "2      9.8        5   2  \n",
            "3      9.8        6   3  \n",
            "4      9.4        5   4  \n"
          ]
        }
      ]
    },
    {
      "cell_type": "code",
      "source": [
        "# Tail of the dataframe\n",
        "print(data.tail())"
      ],
      "metadata": {
        "colab": {
          "base_uri": "https://localhost:8080/"
        },
        "id": "oszc5vlnvoAc",
        "outputId": "f23215a2-f83b-4a59-e9a9-10de76ba2565"
      },
      "execution_count": null,
      "outputs": [
        {
          "output_type": "stream",
          "name": "stdout",
          "text": [
            "      fixed acidity  volatile acidity  citric acid  residual sugar  chlorides  \\\n",
            "1138            6.3             0.510         0.13             2.3      0.076   \n",
            "1139            6.8             0.620         0.08             1.9      0.068   \n",
            "1140            6.2             0.600         0.08             2.0      0.090   \n",
            "1141            5.9             0.550         0.10             2.2      0.062   \n",
            "1142            5.9             0.645         0.12             2.0      0.075   \n",
            "\n",
            "      free sulfur dioxide  total sulfur dioxide  density    pH  sulphates  \\\n",
            "1138                 29.0                  40.0  0.99574  3.42       0.75   \n",
            "1139                 28.0                  38.0  0.99651  3.42       0.82   \n",
            "1140                 32.0                  44.0  0.99490  3.45       0.58   \n",
            "1141                 39.0                  51.0  0.99512  3.52       0.76   \n",
            "1142                 32.0                  44.0  0.99547  3.57       0.71   \n",
            "\n",
            "      alcohol  quality    Id  \n",
            "1138     11.0        6  1592  \n",
            "1139      9.5        6  1593  \n",
            "1140     10.5        5  1594  \n",
            "1141     11.2        6  1595  \n",
            "1142     10.2        5  1597  \n"
          ]
        }
      ]
    },
    {
      "cell_type": "code",
      "source": [
        "# Descriptive statistics of the dataframe\n",
        "print(data.describe())"
      ],
      "metadata": {
        "colab": {
          "base_uri": "https://localhost:8080/"
        },
        "id": "8Y4XhPkBvrQE",
        "outputId": "0312692b-3d19-406d-a448-a0b75d46a567"
      },
      "execution_count": null,
      "outputs": [
        {
          "output_type": "stream",
          "name": "stdout",
          "text": [
            "       fixed acidity  volatile acidity  citric acid  residual sugar  \\\n",
            "count    1143.000000       1143.000000  1143.000000     1143.000000   \n",
            "mean        8.311111          0.531339     0.268364        2.532152   \n",
            "std         1.747595          0.179633     0.196686        1.355917   \n",
            "min         4.600000          0.120000     0.000000        0.900000   \n",
            "25%         7.100000          0.392500     0.090000        1.900000   \n",
            "50%         7.900000          0.520000     0.250000        2.200000   \n",
            "75%         9.100000          0.640000     0.420000        2.600000   \n",
            "max        15.900000          1.580000     1.000000       15.500000   \n",
            "\n",
            "         chlorides  free sulfur dioxide  total sulfur dioxide      density  \\\n",
            "count  1143.000000          1143.000000           1143.000000  1143.000000   \n",
            "mean      0.086933            15.615486             45.914698     0.996730   \n",
            "std       0.047267            10.250486             32.782130     0.001925   \n",
            "min       0.012000             1.000000              6.000000     0.990070   \n",
            "25%       0.070000             7.000000             21.000000     0.995570   \n",
            "50%       0.079000            13.000000             37.000000     0.996680   \n",
            "75%       0.090000            21.000000             61.000000     0.997845   \n",
            "max       0.611000            68.000000            289.000000     1.003690   \n",
            "\n",
            "                pH    sulphates      alcohol      quality           Id  \n",
            "count  1143.000000  1143.000000  1143.000000  1143.000000  1143.000000  \n",
            "mean      3.311015     0.657708    10.442111     5.657043   804.969379  \n",
            "std       0.156664     0.170399     1.082196     0.805824   463.997116  \n",
            "min       2.740000     0.330000     8.400000     3.000000     0.000000  \n",
            "25%       3.205000     0.550000     9.500000     5.000000   411.000000  \n",
            "50%       3.310000     0.620000    10.200000     6.000000   794.000000  \n",
            "75%       3.400000     0.730000    11.100000     6.000000  1209.500000  \n",
            "max       4.010000     2.000000    14.900000     8.000000  1597.000000  \n"
          ]
        }
      ]
    },
    {
      "cell_type": "code",
      "source": [
        "# Descriptive statistics of the dataframe\n",
        "print(data.info())"
      ],
      "metadata": {
        "colab": {
          "base_uri": "https://localhost:8080/"
        },
        "id": "eaEwwC3tvstM",
        "outputId": "37667143-8de1-4324-dcbc-c0e531be86c1"
      },
      "execution_count": null,
      "outputs": [
        {
          "output_type": "stream",
          "name": "stdout",
          "text": [
            "<class 'pandas.core.frame.DataFrame'>\n",
            "RangeIndex: 1143 entries, 0 to 1142\n",
            "Data columns (total 13 columns):\n",
            " #   Column                Non-Null Count  Dtype  \n",
            "---  ------                --------------  -----  \n",
            " 0   fixed acidity         1143 non-null   float64\n",
            " 1   volatile acidity      1143 non-null   float64\n",
            " 2   citric acid           1143 non-null   float64\n",
            " 3   residual sugar        1143 non-null   float64\n",
            " 4   chlorides             1143 non-null   float64\n",
            " 5   free sulfur dioxide   1143 non-null   float64\n",
            " 6   total sulfur dioxide  1143 non-null   float64\n",
            " 7   density               1143 non-null   float64\n",
            " 8   pH                    1143 non-null   float64\n",
            " 9   sulphates             1143 non-null   float64\n",
            " 10  alcohol               1143 non-null   float64\n",
            " 11  quality               1143 non-null   int64  \n",
            " 12  Id                    1143 non-null   int64  \n",
            "dtypes: float64(11), int64(2)\n",
            "memory usage: 116.2 KB\n",
            "None\n"
          ]
        }
      ]
    },
    {
      "cell_type": "code",
      "source": [
        "# Convert 'Id' column to float\n",
        "data['Id'] = data['Id'].astype(float)\n",
        "\n",
        "# Convert 'quality' column to float\n",
        "data['quality'] = data['quality'].astype(float)\n",
        "\n",
        "print(data.info())"
      ],
      "metadata": {
        "colab": {
          "base_uri": "https://localhost:8080/"
        },
        "id": "FfitjRfzwdRF",
        "outputId": "ca94913a-e868-4bbe-d4d0-c3b0eb5dcdd8"
      },
      "execution_count": null,
      "outputs": [
        {
          "output_type": "stream",
          "name": "stdout",
          "text": [
            "<class 'pandas.core.frame.DataFrame'>\n",
            "RangeIndex: 1143 entries, 0 to 1142\n",
            "Data columns (total 13 columns):\n",
            " #   Column                Non-Null Count  Dtype  \n",
            "---  ------                --------------  -----  \n",
            " 0   fixed acidity         1143 non-null   float64\n",
            " 1   volatile acidity      1143 non-null   float64\n",
            " 2   citric acid           1143 non-null   float64\n",
            " 3   residual sugar        1143 non-null   float64\n",
            " 4   chlorides             1143 non-null   float64\n",
            " 5   free sulfur dioxide   1143 non-null   float64\n",
            " 6   total sulfur dioxide  1143 non-null   float64\n",
            " 7   density               1143 non-null   float64\n",
            " 8   pH                    1143 non-null   float64\n",
            " 9   sulphates             1143 non-null   float64\n",
            " 10  alcohol               1143 non-null   float64\n",
            " 11  quality               1143 non-null   float64\n",
            " 12  Id                    1143 non-null   float64\n",
            "dtypes: float64(13)\n",
            "memory usage: 116.2 KB\n",
            "None\n"
          ]
        }
      ]
    },
    {
      "cell_type": "code",
      "source": [
        "# Separate features (X) and target (y)\n",
        "X = data.drop('quality', axis=1)\n",
        "y = data['quality']\n",
        "\n",
        "# Split data into training and testing sets\n",
        "X_train, X_test, y_train, y_test = train_test_split(X, y, test_size=0.2, random_state=42)\n",
        "\n",
        "# Feature scaling (standardization)\n",
        "scaler = StandardScaler()\n",
        "X_train = scaler.fit_transform(X_train)\n",
        "X_test = scaler.transform(X_test)"
      ],
      "metadata": {
        "id": "s_2Q0zCmwrQt"
      },
      "execution_count": null,
      "outputs": []
    },
    {
      "cell_type": "code",
      "source": [
        "from sklearn.linear_model import LinearRegression\n",
        "from sklearn.metrics import mean_squared_error, r2_score\n",
        "\n",
        "# Create and train the Linear Regression model\n",
        "model = LinearRegression()\n",
        "model.fit(X_train, y_train)\n",
        "\n",
        "# Make predictions on the test set\n",
        "y_pred = model.predict(X_test)\n",
        "\n",
        "# Evaluate the model\n",
        "mse = mean_squared_error(y_test, y_pred)\n",
        "r2 = r2_score(y_test, y_pred)\n",
        "\n",
        "print(\"Mean Squared Error:\", mse)\n",
        "print(\"R-squared:\", r2)"
      ],
      "metadata": {
        "colab": {
          "base_uri": "https://localhost:8080/"
        },
        "id": "9kYXz3BgvC8w",
        "outputId": "391c0a58-0fdf-4670-9c55-2ad3b3f41753"
      },
      "execution_count": null,
      "outputs": [
        {
          "output_type": "stream",
          "name": "stdout",
          "text": [
            "Mean Squared Error: 0.3824283521291972\n",
            "R-squared: 0.3127638539508183\n"
          ]
        }
      ]
    },
    {
      "cell_type": "code",
      "source": [
        "from sklearn.model_selection import KFold\n",
        "\n",
        "# Initialize KFold with 5 folds\n",
        "kf = KFold(n_splits=5, shuffle=True, random_state=42)\n",
        "\n",
        "# Create a list to store cross-validated scores\n",
        "cv_scores = []\n",
        "\n",
        "# Iterate through the folds\n",
        "for train_index, val_index in kf.split(X_train):\n",
        "    X_train_fold, X_val_fold = X_train[train_index], X_train[val_index]\n",
        "    y_train_fold, y_val_fold = y_train.iloc[train_index], y_train.iloc[val_index]\n",
        "\n",
        "    # Train the model on the current fold\n",
        "    model = LinearRegression()\n",
        "    model.fit(X_train_fold, y_train_fold)\n",
        "\n",
        "    # Make predictions on the validation set\n",
        "    y_pred_fold = model.predict(X_val_fold)\n",
        "\n",
        "    # Calculate the score (e.g., R-squared) for the current fold\n",
        "    r2_fold = r2_score(y_val_fold, y_pred_fold)\n",
        "    cv_scores.append(r2_fold)\n",
        "\n",
        "# Calculate the average cross-validated score\n",
        "average_cv_score = sum(cv_scores) / len(cv_scores)\n",
        "\n",
        "print(\"Cross-Validated R-squared Scores:\", cv_scores)\n",
        "print(\"Average Cross-Validated R-squared:\", average_cv_score)"
      ],
      "metadata": {
        "colab": {
          "base_uri": "https://localhost:8080/"
        },
        "id": "gRknRPg8yWfC",
        "outputId": "0958e22c-776c-47ee-99f6-3873e4286b0d"
      },
      "execution_count": null,
      "outputs": [
        {
          "output_type": "stream",
          "name": "stdout",
          "text": [
            "Cross-Validated R-squared Scores: [0.3412693271855066, 0.36488133065648265, 0.3625937104370105, 0.27035546793445075, 0.3960319241887754]\n",
            "Average Cross-Validated R-squared: 0.3470263520804452\n"
          ]
        }
      ]
    },
    {
      "cell_type": "code",
      "source": [
        "from sklearn.linear_model import Ridge, Lasso\n",
        "\n",
        "# Initialize Ridge (L2) and Lasso (L1) models\n",
        "ridge_model = Ridge(alpha=1.0)\n",
        "lasso_model = Lasso(alpha=1.0)\n",
        "\n",
        "# Perform cross-validation for Ridge\n",
        "ridge_cv_scores = []\n",
        "for train_index, val_index in kf.split(X_train):\n",
        "    X_train_fold, X_val_fold = X_train[train_index], X_train[val_index]\n",
        "    y_train_fold, y_val_fold = y_train.iloc[train_index], y_train.iloc[val_index]\n",
        "\n",
        "    ridge_model.fit(X_train_fold, y_train_fold)\n",
        "    y_pred_fold = ridge_model.predict(X_val_fold)\n",
        "    r2_fold = r2_score(y_val_fold, y_pred_fold)\n",
        "    ridge_cv_scores.append(r2_fold)\n",
        "\n",
        "average_ridge_cv_score = sum(ridge_cv_scores) / len(ridge_cv_scores)\n",
        "print(\"Ridge Cross-Validated R-squared Scores:\", ridge_cv_scores)\n",
        "print(\"Average Ridge Cross-Validated R-squared:\", average_ridge_cv_score)"
      ],
      "metadata": {
        "colab": {
          "base_uri": "https://localhost:8080/"
        },
        "id": "6nUL2J0Wy4tz",
        "outputId": "74d4811b-ff0a-47fb-a79f-fd833dfa81d6"
      },
      "execution_count": null,
      "outputs": [
        {
          "output_type": "stream",
          "name": "stdout",
          "text": [
            "Ridge Cross-Validated R-squared Scores: [0.3420590914526599, 0.3651868038215017, 0.36260933047291477, 0.27061704715443824, 0.39581313352948466]\n",
            "Average Ridge Cross-Validated R-squared: 0.3472570812861998\n"
          ]
        }
      ]
    },
    {
      "cell_type": "code",
      "source": [
        "# Perform cross-validation for Lasso\n",
        "lasso_cv_scores = []\n",
        "for train_index, val_index in kf.split(X_train):\n",
        "    X_train_fold, X_val_fold = X_train[train_index], X_train[val_index]\n",
        "    y_train_fold, y_val_fold = y_train.iloc[train_index], y_train.iloc[val_index]\n",
        "\n",
        "    lasso_model.fit(X_train_fold, y_train_fold)\n",
        "    y_pred_fold = lasso_model.predict(X_val_fold)\n",
        "    r2_fold = r2_score(y_val_fold, y_pred_fold)\n",
        "    lasso_cv_scores.append(r2_fold)\n",
        "\n",
        "average_lasso_cv_score = sum(lasso_cv_scores) / len(lasso_cv_scores)\n",
        "print(\"Lasso Cross-Validated R-squared Scores:\", lasso_cv_scores)\n",
        "print(\"Average Lasso Cross-Validated R-squared:\", average_lasso_cv_score)"
      ],
      "metadata": {
        "colab": {
          "base_uri": "https://localhost:8080/"
        },
        "id": "NC2Wk09YzAIz",
        "outputId": "262ef58e-140d-4d63-acea-aa817599ada9"
      },
      "execution_count": null,
      "outputs": [
        {
          "output_type": "stream",
          "name": "stdout",
          "text": [
            "Lasso Cross-Validated R-squared Scores: [-0.021506896129041664, -0.0002557072840272401, -0.005409748215411847, -0.0007465746671997397, -0.005629016744555182]\n",
            "Average Lasso Cross-Validated R-squared: -0.006709588608047134\n"
          ]
        }
      ]
    },
    {
      "cell_type": "code",
      "source": [
        "# Compare the performance of the models\n",
        "print(\"\\nModel Performance Comparison:\")\n",
        "print(\"Linear Regression Average Cross-Validated R-squared:\", average_cv_score)\n",
        "print(\"Ridge Regression Average Cross-Validated R-squared:\", average_ridge_cv_score)\n",
        "print(\"Lasso Regression Average Cross-Validated R-squared:\", average_lasso_cv_score)"
      ],
      "metadata": {
        "colab": {
          "base_uri": "https://localhost:8080/"
        },
        "id": "xiyOYPOAzJbK",
        "outputId": "d8685ffe-28fc-4977-eba3-f1b816356ce2"
      },
      "execution_count": null,
      "outputs": [
        {
          "output_type": "stream",
          "name": "stdout",
          "text": [
            "\n",
            "Model Performance Comparison:\n",
            "Linear Regression Average Cross-Validated R-squared: 0.3470263520804452\n",
            "Ridge Regression Average Cross-Validated R-squared: 0.3472570812861998\n",
            "Lasso Regression Average Cross-Validated R-squared: -0.006709588608047134\n"
          ]
        }
      ]
    },
    {
      "cell_type": "code",
      "source": [
        "from sklearn.linear_model import ElasticNet\n",
        "\n",
        "# Initialize ElasticNet model\n",
        "elasticnet_model = ElasticNet(alpha=1.0, l1_ratio=0.1)\n",
        "\n",
        "# Perform cross-validation for ElasticNet\n",
        "elasticnet_cv_scores = []\n",
        "for train_index, val_index in kf.split(X_train):\n",
        "    X_train_fold, X_val_fold = X_train[train_index], X_train[val_index]\n",
        "    y_train_fold, y_val_fold = y_train.iloc[train_index], y_train.iloc[val_index]\n",
        "\n",
        "    elasticnet_model.fit(X_train_fold, y_train_fold)\n",
        "    y_pred_fold = elasticnet_model.predict(X_val_fold)\n",
        "    r2_fold = r2_score(y_val_fold, y_pred_fold)\n",
        "    elasticnet_cv_scores.append(r2_fold)\n",
        "\n",
        "average_elasticnet_cv_score = sum(elasticnet_cv_scores) / len(elasticnet_cv_scores)\n",
        "print(\"ElasticNet Cross-Validated R-squared Scores:\", elasticnet_cv_scores)\n",
        "print(\"Average ElasticNet Cross-Validated R-squared:\", average_elasticnet_cv_score)"
      ],
      "metadata": {
        "colab": {
          "base_uri": "https://localhost:8080/"
        },
        "id": "FCs10r6yzhUC",
        "outputId": "ad3f0d49-812f-42b7-fe49-54c82c899c65"
      },
      "execution_count": null,
      "outputs": [
        {
          "output_type": "stream",
          "name": "stdout",
          "text": [
            "ElasticNet Cross-Validated R-squared Scores: [0.22109716354024556, 0.24428875573304643, 0.23520334534363585, 0.22095382840099298, 0.23136201497638254]\n",
            "Average ElasticNet Cross-Validated R-squared: 0.23058102159886068\n"
          ]
        }
      ]
    },
    {
      "cell_type": "code",
      "source": [
        "# Compare the performance of the models\n",
        "print(\"\\nModel Performance Comparison:\")\n",
        "print(\"Linear Regression Average Cross-Validated R-squared:\", average_cv_score)\n",
        "print(\"Ridge Regression Average Cross-Validated R-squared:\", average_ridge_cv_score)\n",
        "print(\"Lasso Regression Average Cross-Validated R-squared:\", average_lasso_cv_score)\n",
        "print(\"ElasticNet Regression Average Cross-Validated R-squared:\", average_elasticnet_cv_score)"
      ],
      "metadata": {
        "colab": {
          "base_uri": "https://localhost:8080/"
        },
        "id": "ZyGWfxxVzqB6",
        "outputId": "9ca7cde1-3cb6-470b-c712-5e076738c757"
      },
      "execution_count": null,
      "outputs": [
        {
          "output_type": "stream",
          "name": "stdout",
          "text": [
            "\n",
            "Model Performance Comparison:\n",
            "Linear Regression Average Cross-Validated R-squared: 0.3470263520804452\n",
            "Ridge Regression Average Cross-Validated R-squared: 0.3472570812861998\n",
            "Lasso Regression Average Cross-Validated R-squared: -0.006709588608047134\n",
            "ElasticNet Regression Average Cross-Validated R-squared: 0.23058102159886068\n"
          ]
        }
      ]
    },
    {
      "cell_type": "code",
      "source": [
        "# Analyze the results\n",
        "print(\"\\nAnalysis:\")\n",
        "if average_ridge_cv_score > average_cv_score:\n",
        "  print(\"Ridge Regression outperforms Linear Regression, indicating that L2 regularization helps reduce overfitting.\")\n",
        "if average_lasso_cv_score > average_cv_score:\n",
        "  print(\"Lasso Regression outperforms Linear Regression, suggesting that L1 regularization can also improve model performance by reducing variance and potentially selecting important features.\")\n",
        "if average_elasticnet_cv_score > average_cv_score:\n",
        "    print(\"ElasticNet Regression outperforms Linear Regression, indicating that a combination of L1 and L2 regularization is effective in improving model performance and controlling overfitting.\")\n",
        "\n",
        "\n",
        "# Analyze how regularization impacts model performance\n",
        "if average_ridge_cv_score > average_cv_score or average_lasso_cv_score > average_cv_score or average_elasticnet_cv_score > average_cv_score:\n",
        "    print(\"Regularization techniques (Ridge, Lasso, ElasticNet) generally improve model performance by reducing variance and controlling overfitting, leading to better generalization to unseen data.\")\n",
        "else:\n",
        "    print(\"Regularization did not significantly improve model performance in this case. The model might not be experiencing significant overfitting.\")"
      ],
      "metadata": {
        "colab": {
          "base_uri": "https://localhost:8080/"
        },
        "id": "wUg5jTr43C9g",
        "outputId": "69bf6454-6203-4ad8-9188-955563a038fd"
      },
      "execution_count": null,
      "outputs": [
        {
          "output_type": "stream",
          "name": "stdout",
          "text": [
            "\n",
            "Analysis:\n",
            "Ridge Regression outperforms Linear Regression, indicating that L2 regularization helps reduce overfitting.\n",
            "Regularization techniques (Ridge, Lasso, ElasticNet) generally improve model performance by reducing variance and controlling overfitting, leading to better generalization to unseen data.\n"
          ]
        }
      ]
    },
    {
      "cell_type": "code",
      "source": [
        "from sklearn.model_selection import GridSearchCV\n",
        "\n",
        "# Define the parameter grid for Ridge, Lasso, and ElasticNet\n",
        "param_grid_ridge = {'alpha': [0.1, 1.0, 10.0]}\n",
        "param_grid_lasso = {'alpha': [0.1, 1.0, 10.0]}\n",
        "param_grid_elasticnet = {'alpha': [0.1, 1.0, 10.0], 'l1_ratio': [0.1, 0.5, 0.9]}\n",
        "\n",
        "# Create GridSearchCV objects for each model\n",
        "grid_search_ridge = GridSearchCV(Ridge(), param_grid_ridge, cv=5, scoring='r2')\n",
        "grid_search_lasso = GridSearchCV(Lasso(), param_grid_lasso, cv=5, scoring='r2')\n",
        "grid_search_elasticnet = GridSearchCV(ElasticNet(), param_grid_elasticnet, cv=5, scoring='r2')\n",
        "\n",
        "# Fit the GridSearchCV objects to the training data\n",
        "grid_search_ridge.fit(X_train, y_train)\n",
        "grid_search_lasso.fit(X_train, y_train)\n",
        "grid_search_elasticnet.fit(X_train, y_train)\n",
        "\n",
        "# Print the best parameters and scores for each model\n",
        "print(\"Ridge Best Parameters:\", grid_search_ridge.best_params_)\n",
        "print(\"Ridge Best Score:\", grid_search_ridge.best_score_)\n",
        "\n",
        "print(\"Lasso Best Parameters:\", grid_search_lasso.best_params_)\n",
        "print(\"Lasso Best Score:\", grid_search_lasso.best_score_)\n",
        "\n",
        "print(\"ElasticNet Best Parameters:\", grid_search_elasticnet.best_params_)\n",
        "print(\"ElasticNet Best Score:\", grid_search_elasticnet.best_score_)"
      ],
      "metadata": {
        "colab": {
          "base_uri": "https://localhost:8080/"
        },
        "id": "C-fimaYc3XWH",
        "outputId": "b646d55c-913b-4511-986d-eb4787ceb197"
      },
      "execution_count": null,
      "outputs": [
        {
          "output_type": "stream",
          "name": "stdout",
          "text": [
            "Ridge Best Parameters: {'alpha': 10.0}\n",
            "Ridge Best Score: 0.3549123956155578\n",
            "Lasso Best Parameters: {'alpha': 0.1}\n",
            "Lasso Best Score: 0.31544780926112004\n",
            "ElasticNet Best Parameters: {'alpha': 0.1, 'l1_ratio': 0.1}\n",
            "ElasticNet Best Score: 0.355497599623415\n"
          ]
        }
      ]
    },
    {
      "cell_type": "code",
      "source": [],
      "metadata": {
        "id": "mYHaStij5F3p"
      },
      "execution_count": null,
      "outputs": []
    }
  ]
}